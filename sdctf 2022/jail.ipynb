{
 "cells": [
  {
   "cell_type": "code",
   "execution_count": null,
   "metadata": {},
   "outputs": [],
   "source": [
    "# execute system commands in a jail\n",
    "import sys\n",
    "import os\n",
    "import subprocess\n",
    "\n",
    "subprocess.call([\"ls\", \"-l\"])"
   ]
  }
 ],
 "metadata": {
  "language_info": {
   "name": "python"
  },
  "orig_nbformat": 4
 },
 "nbformat": 4,
 "nbformat_minor": 2
}
