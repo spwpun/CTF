{
 "cells": [
  {
   "cell_type": "code",
   "execution_count": null,
   "metadata": {},
   "outputs": [],
   "source": [
    "# get e\n",
    "import hashlib\n",
    "for i in range(1,100):\n",
    "    md5_str = hashlib.md5(str(i).encode('utf-8')).hexdigest()\n",
    "    if md5_str == \"37693cfc748049e45d87b8c7d8b9aacd\":\n",
    "        print(i, md5_str)\n",
    "\n",
    "# 23 37693cfc748049e45d87b8c7d8b9aacd"
   ]
  },
  {
   "cell_type": "code",
   "execution_count": null,
   "metadata": {},
   "outputs": [],
   "source": [
    "# get q\n",
    "p = 64310413306776406422334034047152581900365687374336418863191177338901198608319\n",
    "n = 4197356622576696564490569060686240088884187113566430134461945130770906825187894394672841467350797015940721560434743086405821584185286177962353341322088523\n",
    "\n",
    "q = n//p\n",
    "\n",
    "print(q)\n",
    "\n",
    "# 65267138038038699886916162739434586079731613825212388229424706115289974540917"
   ]
  },
  {
   "cell_type": "code",
   "execution_count": 1,
   "metadata": {},
   "outputs": [
    {
     "name": "stdout",
     "output_type": "stream",
     "text": [
      "37693cfc748049e45d87b8c7d8b9aacd\n",
      "4197356622576696564490569060686240088884187113566430134461945130770906825187894394672841467350797015940721560434743086405821584185286177962353341322088523\n",
      "3298176862697175389935722420143867000970906723110625484802850810634814647827572034913391972640399446415991848730984820839735665233943600223288991148186397\n"
     ]
    }
   ],
   "source": [
    "import random\n",
    "import hashlib\n",
    "\n",
    "flag = 'xxxxxxxxxxxxxxxxxxxx'\n",
    "crypto = ''\n",
    "key = random.randint(1,10)\n",
    "for i in range(len(flag)):\n",
    "\tcrypto += chr(ord(flag[i])^key)\n",
    "m = 0x6e64696f735f3b396b67453b574b38653b573f67576e3c5c3b6b7c6e75 #crypto的ascii十六进制\n",
    "e = 23\n",
    "print(hashlib.md5(str(e).encode('utf-8')).hexdigest())\n",
    "p = 64310413306776406422334034047152581900365687374336418863191177338901198608319\n",
    "q = 65267138038038699886916162739434586079731613825212388229424706115289974540917 # q\n",
    "n = p*q\n",
    "c = pow(m,e,n)\n",
    "print(n)\n",
    "print(c)\n",
    "#37693cfc748049e45d87b8c7d8b9aacd\n",
    "#4197356622576696564490569060686240088884187113566430134461945130770906825187894394672841467350797015940721560434743086405821584185286177962353341322088523\n",
    "#3298176862697175389935722420143867000970906723110625484802850810634814647827572034913391972640399446415991848730984820839735665233943600223288991148186397"
   ]
  },
  {
   "cell_type": "code",
   "execution_count": 2,
   "metadata": {},
   "outputs": [
    {
     "name": "stdout",
     "output_type": "stream",
     "text": [
      "1 oehnr^:8jfD:VJ9d:V>fVo=]:j}ot\n",
      "2 lfkmq]9;ieG9UI:g9U=eUl>^9i~lw\n",
      "3 mgjlp\\8:hdF8TH;f8T<dTm?_8hmv\n",
      "4 j`mkw[?=ocA?SO<a?S;cSj8X?oxjq\n",
      "5 kaljvZ><nb@>RN=`>R:bRk9Y>nykp\n",
      "6 hboiuY=?maC=QM>c=Q9aQh:Z=mzhs\n",
      "7 icnhtX<>l`B<PL?b<P8`Pi;[<l{ir\n",
      "8 flag{W31coM3_C0m3_7o_f4T3ctf}\n",
      "9 gm`fzV20bnL2^B1l2^6n^g5U2bug|\n"
     ]
    }
   ],
   "source": [
    "import hashlib\n",
    "\n",
    "n = 4197356622576696564490569060686240088884187113566430134461945130770906825187894394672841467350797015940721560434743086405821584185286177962353341322088523\n",
    "e = 23\n",
    "c = 3298176862697175389935722420143867000970906723110625484802850810634814647827572034913391972640399446415991848730984820839735665233943600223288991148186397\n",
    "\n",
    "# using RsaCtfTool to get m = 0x6e64696f735f3b396b67453b574b38653b573f67576e3c5c3b6b7c6e75\n",
    "m = 'ndios_;9kgE;WK8e;W?gWn<\\;k|nu'\n",
    "for i in range(1, 10):\n",
    "    flag = ''\n",
    "    for ch in m:\n",
    "        d = ord(ch)^i\n",
    "        flag += chr(d)\n",
    "    print(i ,flag)\n",
    "'''\n",
    "1 oehnr^:8jfD:VJ9d:V>fVo=]:j}ot\n",
    "2 lfkmq]9;ieG9UI:g9U=eUl>^9i~lw\n",
    "3 mgjlp\\8:hdF8TH;f8T<dTm?_8hmv\n",
    "4 j`mkw[?=ocA?SO<a?S;cSj8X?oxjq\n",
    "5 kaljvZ><nb@>RN=`>R:bRk9Y>nykp\n",
    "6 hboiuY=?maC=QM>c=Q9aQh:Z=mzhs\n",
    "7 icnhtX<>l`B<PL?b<P8`Pi;[<l{ir\n",
    "8 flag{W31coM3_C0m3_7o_f4T3ctf}\n",
    "9 gm`fzV20bnL2^B1l2^6n^g5U2bug|\n",
    "'''"
   ]
  }
 ],
 "metadata": {
  "interpreter": {
   "hash": "b3ba2566441a7c06988d0923437866b63cedc61552a5af99d1f4fb67d367b25f"
  },
  "kernelspec": {
   "display_name": "Python 3.9.7 ('base')",
   "language": "python",
   "name": "python3"
  },
  "language_info": {
   "codemirror_mode": {
    "name": "ipython",
    "version": 3
   },
   "file_extension": ".py",
   "mimetype": "text/x-python",
   "name": "python",
   "nbconvert_exporter": "python",
   "pygments_lexer": "ipython3",
   "version": "3.9.7"
  },
  "orig_nbformat": 4
 },
 "nbformat": 4,
 "nbformat_minor": 2
}
